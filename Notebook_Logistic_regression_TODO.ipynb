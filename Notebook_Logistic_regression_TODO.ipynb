{
  "nbformat": 4,
  "nbformat_minor": 0,
  "metadata": {
    "colab": {
      "name": "Notebook_Logistic_regression_TODO.ipynb",
      "provenance": [],
      "collapsed_sections": [],
      "include_colab_link": true
    },
    "kernelspec": {
      "name": "python3",
      "display_name": "Python 3"
    }
  },
  "cells": [
    {
      "cell_type": "markdown",
      "metadata": {
        "id": "view-in-github",
        "colab_type": "text"
      },
      "source": [
        "<a href=\"https://colab.research.google.com/github/Meddouryazid/AI2E-workshops/blob/master/Notebook_Logistic_regression_TODO.ipynb\" target=\"_parent\"><img src=\"https://colab.research.google.com/assets/colab-badge.svg\" alt=\"Open In Colab\"/></a>"
      ]
    },
    {
      "cell_type": "markdown",
      "metadata": {
        "id": "LkLfrprwUxUk",
        "colab_type": "text"
      },
      "source": [
        "#Logistic regression example\n",
        "In this notebook, we'll implement the basic functions that we learned during the lesson and implement an algorithm to find the boundary in a small dataset.\n",
        "\n",
        "( WARNING! : To modifie the notebook please create a copie )"
      ]
    },
    {
      "cell_type": "markdown",
      "metadata": {
        "id": "iE_RUbOtVetl",
        "colab_type": "text"
      },
      "source": [
        "First,some functions that will help us plot and visualize the data."
      ]
    },
    {
      "cell_type": "code",
      "metadata": {
        "id": "FiUHOYBtM2UZ",
        "colab_type": "code",
        "colab": {}
      },
      "source": [
        "import matplotlib.pyplot as plt\n",
        "import numpy as np\n",
        "import pandas as pd\n",
        "\n",
        "#Some helper functions for plotting and drawing lines\n",
        "\n",
        "def plot_points(X, y):\n",
        "    admitted = X[np.argwhere(y==1)]\n",
        "    rejected = X[np.argwhere(y==0)]\n",
        "    plt.scatter([s[0][0] for s in rejected], [s[0][1] for s in rejected], s = 25, color = 'blue', edgecolor = 'k')\n",
        "    plt.scatter([s[0][0] for s in admitted], [s[0][1] for s in admitted], s = 25, color = 'red', edgecolor = 'k')\n",
        "\n",
        "def display(m, b, color='g--'):\n",
        "    plt.xlim(-0.05,1.05)\n",
        "    plt.ylim(-0.05,1.05)\n",
        "    x = np.arange(-10, 10, 0.1)\n",
        "    plt.plot(x, m*x+b, color)"
      ],
      "execution_count": 0,
      "outputs": []
    },
    {
      "cell_type": "markdown",
      "metadata": {
        "id": "Egpm8aeyWFhn",
        "colab_type": "text"
      },
      "source": [
        "Lets import our data :\n",
        "\n",
        "\n",
        "*   Add the data set to your Drive \n",
        "*   Execute the following code to to mount the drive \n",
        "*   Enter to the URL given after executing then follow the steps\n",
        "*   Copy the code to the notebook and click ENTER\n",
        "\n"
      ]
    },
    {
      "cell_type": "code",
      "metadata": {
        "id": "xiuOAXKgPZ8B",
        "colab_type": "code",
        "colab": {}
      },
      "source": [
        "from google.colab import drive\n",
        "drive.mount('/content/drive')"
      ],
      "execution_count": 0,
      "outputs": []
    },
    {
      "cell_type": "code",
      "metadata": {
        "id": "bjwZQgaxNu1t",
        "colab_type": "code",
        "colab": {}
      },
      "source": [
        "data = pd.read_csv('/content/drive/My Drive/Colab Notebooks/data.csv', header=None)#The path to the dataset\n",
        "\n",
        "X = np.array(data[[0,1]])\n",
        "y = np.array(data[2])\n",
        "\n",
        "plot_points(X,y)\n",
        "plt.show()"
      ],
      "execution_count": 0,
      "outputs": []
    },
    {
      "cell_type": "markdown",
      "metadata": {
        "id": "Y8flL9jJaDDq",
        "colab_type": "text"
      },
      "source": [
        "##Implementing the basic functions\n",
        "\n",
        "- Sigmoid activation function\n",
        "\n",
        "$$\\sigma(x) = \\frac{1}{1+e^{-x}}$$\n",
        "\n",
        "- Output (prediction) formula\n",
        "\n",
        "$$\\hat{y} = \\sigma(w_1 x_1 + w_2 x_2 + b)$$\n",
        "\n",
        "- Error function\n",
        "\n",
        "$$Error(y, \\hat{y}) = - y \\log(\\hat{y}) - (1-y) \\log(1-\\hat{y})$$\n",
        "\n",
        "- The function that updates the weights\n",
        "\n",
        "$$ w_i \\longrightarrow w_i + \\alpha (y - \\hat{y}) x_i$$\n",
        "\n",
        "$$ b \\longrightarrow b + \\alpha (y - \\hat{y})$$"
      ]
    },
    {
      "cell_type": "code",
      "metadata": {
        "id": "Ip3bi8y0a_Lp",
        "colab_type": "code",
        "colab": {}
      },
      "source": [
        "# Activation (sigmoid) function\n",
        "# TODO\n",
        "def sigmoid(x):\n",
        "    return \n",
        "\n",
        "def output_formula(features, weights, bias):\n",
        "    return \n",
        "\n",
        "def error_formula(y, output):\n",
        "    return \n",
        "\n",
        "def update_weights(x, y, weights, bias, learnrate):\n",
        "    \n",
        "    return weights, bias"
      ],
      "execution_count": 0,
      "outputs": []
    },
    {
      "cell_type": "markdown",
      "metadata": {
        "id": "3zzsiSIKb6jv",
        "colab_type": "text"
      },
      "source": [
        "##Training algorithm"
      ]
    },
    {
      "cell_type": "code",
      "metadata": {
        "id": "o_Aq7B2PcBis",
        "colab_type": "code",
        "colab": {}
      },
      "source": [
        "np.random.seed(44)\n",
        "\n",
        "epochs = # TODO\n",
        "learnrate = # TODO\n",
        "\n",
        "def train(features, targets, epochs, learnrate, graph_lines=False):\n",
        "    \n",
        "    errors = []\n",
        "    n_records, n_features = features.shape\n",
        "    last_loss = None\n",
        "    weights = np.random.normal(scale=1 , size=n_features)\n",
        "    bias = 0\n",
        "    for e in range(epochs):\n",
        "        \n",
        "        for x, y in zip(features, targets):\n",
        "          \n",
        "            # TODO\n",
        "        \n",
        "        # Printing out the log-loss error on the training set\n",
        "        out = output_formula(features, weights, bias)\n",
        "        loss = np.mean(error_formula(targets, out))\n",
        "        errors.append(loss)\n",
        "        if e % 10) == 0:\n",
        "            print(\"\\n========== Epoch\", e,\"==========\")\n",
        "            if last_loss and last_loss < loss:\n",
        "                print(\"Train loss: \", loss, \"  WARNING - Loss Increasing\")\n",
        "            else:\n",
        "                print(\"Train loss: \", loss)\n",
        "            last_loss = loss\n",
        "            predictions = out > 0.5\n",
        "            accuracy = np.mean(predictions == targets)\n",
        "            print(\"Accuracy: \", accuracy)\n",
        "        if graph_lines and (e %  10) == 0:\n",
        "            display(-weights[0]/weights[1], -bias/weights[1])\n",
        "            \n",
        "\n",
        "    # Plotting the solution boundary\n",
        "    plt.title(\"Solution boundary\")\n",
        "    display(-weights[0]/weights[1], -bias/weights[1], 'black')\n",
        "\n",
        "    # Plotting the data\n",
        "    plot_points(features, targets)\n",
        "    plt.show()\n",
        "\n",
        "    # Plotting the error\n",
        "    plt.title(\"Error Plot\")\n",
        "    plt.xlabel('Number of epochs')\n",
        "    plt.ylabel('Error')\n",
        "    plt.plot(errors)\n",
        "    plt.show()"
      ],
      "execution_count": 0,
      "outputs": []
    },
    {
      "cell_type": "markdown",
      "metadata": {
        "id": "FRcx7959cHge",
        "colab_type": "text"
      },
      "source": [
        "###Train the algorithm"
      ]
    },
    {
      "cell_type": "code",
      "metadata": {
        "id": "_JyZxdQycHwh",
        "colab_type": "code",
        "colab": {}
      },
      "source": [
        "train(X, y, epochs, learnrate, True)"
      ],
      "execution_count": 0,
      "outputs": []
    }
  ]
}